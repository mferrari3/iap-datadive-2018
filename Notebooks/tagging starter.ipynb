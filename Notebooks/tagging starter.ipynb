{
 "cells": [
  {
   "cell_type": "markdown",
   "metadata": {},
   "source": [
    "# import the necessary package"
   ]
  },
  {
   "cell_type": "code",
   "execution_count": 2,
   "metadata": {
    "collapsed": true
   },
   "outputs": [],
   "source": [
    "import pandas as pd\n",
    "import pickle\n",
    "import random\n",
    "pd.set_option('display.max_columns',60)\n",
    "%matplotlib inline\n"
   ]
  },
  {
   "cell_type": "markdown",
   "metadata": {},
   "source": [
    "# load the dataset"
   ]
  },
  {
   "cell_type": "markdown",
   "metadata": {},
   "source": [
    "**News Articles ** "
   ]
  },
  {
   "cell_type": "code",
   "execution_count": 3,
   "metadata": {
    "collapsed": true
   },
   "outputs": [],
   "source": [
    "newsData = pd.read_pickle('../Data/Feedly_Processed_DF_cleaned.pkl')"
   ]
  },
  {
   "cell_type": "markdown",
   "metadata": {},
   "source": [
    "## Labeled Data \n",
    "\n",
    "### bank tagging"
   ]
  },
  {
   "cell_type": "code",
   "execution_count": 7,
   "metadata": {
    "collapsed": true
   },
   "outputs": [],
   "source": [
    "bankLabel = pd.read_csv('../Data/Labeled_Data/banks.csv')"
   ]
  },
  {
   "cell_type": "code",
   "execution_count": 8,
   "metadata": {},
   "outputs": [
    {
     "data": {
      "text/html": [
       "<div>\n",
       "<style>\n",
       "    .dataframe thead tr:only-child th {\n",
       "        text-align: right;\n",
       "    }\n",
       "\n",
       "    .dataframe thead th {\n",
       "        text-align: left;\n",
       "    }\n",
       "\n",
       "    .dataframe tbody tr th {\n",
       "        vertical-align: top;\n",
       "    }\n",
       "</style>\n",
       "<table border=\"1\" class=\"dataframe\">\n",
       "  <thead>\n",
       "    <tr style=\"text-align: right;\">\n",
       "      <th></th>\n",
       "      <th>article_id</th>\n",
       "      <th>published</th>\n",
       "      <th>title</th>\n",
       "      <th>url</th>\n",
       "      <th>feed_label</th>\n",
       "      <th>Bank1</th>\n",
       "      <th>Bank2</th>\n",
       "    </tr>\n",
       "  </thead>\n",
       "  <tbody>\n",
       "    <tr>\n",
       "      <th>0</th>\n",
       "      <td>10f9ed2</td>\n",
       "      <td>2018-01-11</td>\n",
       "      <td>ADB Provides Support for Three Infrastructure ...</td>\n",
       "      <td>http://moderndiplomacy.eu/2018/01/11/adb-provi...</td>\n",
       "      <td>NEWS ADB - All Streams</td>\n",
       "      <td>adb</td>\n",
       "      <td>NaN</td>\n",
       "    </tr>\n",
       "    <tr>\n",
       "      <th>1</th>\n",
       "      <td>c0eece9b</td>\n",
       "      <td>2018-05-13</td>\n",
       "      <td>ADB Helps Inaugurate New Power Distribution Ne...</td>\n",
       "      <td>http://feedproxy.google.com/~r/adb_news/~3/2My...</td>\n",
       "      <td>NEWS ADB - All Streams</td>\n",
       "      <td>adb</td>\n",
       "      <td>NaN</td>\n",
       "    </tr>\n",
       "    <tr>\n",
       "      <th>2</th>\n",
       "      <td>d1d79dd8</td>\n",
       "      <td>2018-02-20</td>\n",
       "      <td>ADB Provides $360 Million for Rolling Stock to...</td>\n",
       "      <td>http://feedproxy.google.com/~r/adb_news/~3/v9s...</td>\n",
       "      <td>NEWS ADB - All Streams</td>\n",
       "      <td>adb</td>\n",
       "      <td>NaN</td>\n",
       "    </tr>\n",
       "    <tr>\n",
       "      <th>3</th>\n",
       "      <td>f0d65e5</td>\n",
       "      <td>2018-02-25</td>\n",
       "      <td>ADB provides financing to Thailand's B.Grimm P...</td>\n",
       "      <td>https://www.dealstreetasia.com/stories/adb-b-g...</td>\n",
       "      <td>NEWS ADB - All Streams</td>\n",
       "      <td>adb</td>\n",
       "      <td>NaN</td>\n",
       "    </tr>\n",
       "    <tr>\n",
       "      <th>4</th>\n",
       "      <td>4a557358</td>\n",
       "      <td>2018-02-26</td>\n",
       "      <td>ADB's $235m loan to support B.Grimm Power expa...</td>\n",
       "      <td>https://www.power-technology.com/news/adbs-235...</td>\n",
       "      <td>NEWS ADB - All Streams</td>\n",
       "      <td>adb</td>\n",
       "      <td>NaN</td>\n",
       "    </tr>\n",
       "  </tbody>\n",
       "</table>\n",
       "</div>"
      ],
      "text/plain": [
       "  article_id   published                                              title  \\\n",
       "0    10f9ed2  2018-01-11  ADB Provides Support for Three Infrastructure ...   \n",
       "1   c0eece9b  2018-05-13  ADB Helps Inaugurate New Power Distribution Ne...   \n",
       "2   d1d79dd8  2018-02-20  ADB Provides $360 Million for Rolling Stock to...   \n",
       "3    f0d65e5  2018-02-25  ADB provides financing to Thailand's B.Grimm P...   \n",
       "4   4a557358  2018-02-26  ADB's $235m loan to support B.Grimm Power expa...   \n",
       "\n",
       "                                                 url              feed_label  \\\n",
       "0  http://moderndiplomacy.eu/2018/01/11/adb-provi...  NEWS ADB - All Streams   \n",
       "1  http://feedproxy.google.com/~r/adb_news/~3/2My...  NEWS ADB - All Streams   \n",
       "2  http://feedproxy.google.com/~r/adb_news/~3/v9s...  NEWS ADB - All Streams   \n",
       "3  https://www.dealstreetasia.com/stories/adb-b-g...  NEWS ADB - All Streams   \n",
       "4  https://www.power-technology.com/news/adbs-235...  NEWS ADB - All Streams   \n",
       "\n",
       "  Bank1 Bank2  \n",
       "0   adb   NaN  \n",
       "1   adb   NaN  \n",
       "2   adb   NaN  \n",
       "3   adb   NaN  \n",
       "4   adb   NaN  "
      ]
     },
     "execution_count": 8,
     "metadata": {},
     "output_type": "execute_result"
    }
   ],
   "source": [
    "bankLabel.head()"
   ]
  },
  {
   "cell_type": "code",
   "execution_count": 9,
   "metadata": {},
   "outputs": [
    {
     "data": {
      "text/html": [
       "<div>\n",
       "<style>\n",
       "    .dataframe thead tr:only-child th {\n",
       "        text-align: right;\n",
       "    }\n",
       "\n",
       "    .dataframe thead th {\n",
       "        text-align: left;\n",
       "    }\n",
       "\n",
       "    .dataframe tbody tr th {\n",
       "        vertical-align: top;\n",
       "    }\n",
       "</style>\n",
       "<table border=\"1\" class=\"dataframe\">\n",
       "  <thead>\n",
       "    <tr style=\"text-align: right;\">\n",
       "      <th></th>\n",
       "      <th>article_id</th>\n",
       "      <th>title</th>\n",
       "      <th>url</th>\n",
       "      <th>feed_label</th>\n",
       "      <th>content</th>\n",
       "      <th>published</th>\n",
       "      <th>summary</th>\n",
       "      <th>article_text</th>\n",
       "      <th>article_keywords</th>\n",
       "      <th>article_text_len</th>\n",
       "      <th>top_lang</th>\n",
       "    </tr>\n",
       "  </thead>\n",
       "  <tbody>\n",
       "    <tr>\n",
       "      <th>10900</th>\n",
       "      <td>eebb9702</td>\n",
       "      <td>India, World Bank sign financing agreement for...</td>\n",
       "      <td>http://www.abplive.in/business/india-world-ban...</td>\n",
       "      <td>NEWS WB- All Streams</td>\n",
       "      <td>NaN</td>\n",
       "      <td>2017-12-21 09:22:12</td>\n",
       "      <td>&lt;table border=\"0\" cellspacing=\"3\" cellpadding=...</td>\n",
       "      <td>New Delhi [India], Dec 20 (ANI): A financing a...</td>\n",
       "      <td>[institutes, india, skill, financing, training...</td>\n",
       "      <td>1031</td>\n",
       "      <td>en</td>\n",
       "    </tr>\n",
       "    <tr>\n",
       "      <th>4268</th>\n",
       "      <td>6832ce57</td>\n",
       "      <td>Rs 40000-crore development projects in limbo i...</td>\n",
       "      <td>http://www.moneycontrol.com/news/business/econ...</td>\n",
       "      <td>NEWS AIIB - All Streams</td>\n",
       "      <td>NaN</td>\n",
       "      <td>2017-12-10 09:40:00</td>\n",
       "      <td>&lt;table border=\"0\" cellspacing=\"3\" cellpadding=...</td>\n",
       "      <td>Development projects worth more than Rs 40,000...</td>\n",
       "      <td>[development, crore, andhra, eaps, state, proj...</td>\n",
       "      <td>4390</td>\n",
       "      <td>en</td>\n",
       "    </tr>\n",
       "    <tr>\n",
       "      <th>1663</th>\n",
       "      <td>30f8f65e</td>\n",
       "      <td>https://www.the-american-interest.com/2018/01/...</td>\n",
       "      <td>https://www.the-american-interest.com/2018/01/...</td>\n",
       "      <td>NEWS AFDB- All Streams</td>\n",
       "      <td>NaN</td>\n",
       "      <td>2018-01-03 12:21:54</td>\n",
       "      <td>&lt;table border=\"0\" cellspacing=\"3\" cellpadding=...</td>\n",
       "      <td>Ten Lessons\\n\\nDevelopment with Chinese Charac...</td>\n",
       "      <td>[transitions, university, chinese, united, dev...</td>\n",
       "      <td>575</td>\n",
       "      <td>en</td>\n",
       "    </tr>\n",
       "    <tr>\n",
       "      <th>3789</th>\n",
       "      <td>5ec16472</td>\n",
       "      <td>$300 Million to Expand and Upgrade Infrastruct...</td>\n",
       "      <td>https://jis.gov.jm/300-million-to-expand-and-u...</td>\n",
       "      <td>NEWS IDB - All Streams</td>\n",
       "      <td>NaN</td>\n",
       "      <td>2018-04-27 16:28:43</td>\n",
       "      <td>&lt;table border=\"0\" cellspacing=\"3\" cellpadding=...</td>\n",
       "      <td>Minister of Industry, Commerce, Agriculture an...</td>\n",
       "      <td>[research, development, agriculture, fisheries...</td>\n",
       "      <td>2621</td>\n",
       "      <td>en</td>\n",
       "    </tr>\n",
       "    <tr>\n",
       "      <th>6657</th>\n",
       "      <td>989c9942</td>\n",
       "      <td>ADB Provides $346 Million to Upgrade State Hig...</td>\n",
       "      <td>http://www.business-standard.com/article/news-...</td>\n",
       "      <td>NEWS ADB - All Streams</td>\n",
       "      <td>NaN</td>\n",
       "      <td>2017-12-10 01:00:00</td>\n",
       "      <td>&lt;table border=\"0\" cellspacing=\"3\" cellpadding=...</td>\n",
       "      <td>The Asian Development Bank's (ADB) Board of Di...</td>\n",
       "      <td>[highways, improvement, india, state, upgrade,...</td>\n",
       "      <td>2532</td>\n",
       "      <td>en</td>\n",
       "    </tr>\n",
       "  </tbody>\n",
       "</table>\n",
       "</div>"
      ],
      "text/plain": [
       "      article_id                                              title  \\\n",
       "10900   eebb9702  India, World Bank sign financing agreement for...   \n",
       "4268    6832ce57  Rs 40000-crore development projects in limbo i...   \n",
       "1663    30f8f65e  https://www.the-american-interest.com/2018/01/...   \n",
       "3789    5ec16472  $300 Million to Expand and Upgrade Infrastruct...   \n",
       "6657    989c9942  ADB Provides $346 Million to Upgrade State Hig...   \n",
       "\n",
       "                                                     url  \\\n",
       "10900  http://www.abplive.in/business/india-world-ban...   \n",
       "4268   http://www.moneycontrol.com/news/business/econ...   \n",
       "1663   https://www.the-american-interest.com/2018/01/...   \n",
       "3789   https://jis.gov.jm/300-million-to-expand-and-u...   \n",
       "6657   http://www.business-standard.com/article/news-...   \n",
       "\n",
       "                    feed_label content           published  \\\n",
       "10900     NEWS WB- All Streams     NaN 2017-12-21 09:22:12   \n",
       "4268   NEWS AIIB - All Streams     NaN 2017-12-10 09:40:00   \n",
       "1663    NEWS AFDB- All Streams     NaN 2018-01-03 12:21:54   \n",
       "3789    NEWS IDB - All Streams     NaN 2018-04-27 16:28:43   \n",
       "6657    NEWS ADB - All Streams     NaN 2017-12-10 01:00:00   \n",
       "\n",
       "                                                 summary  \\\n",
       "10900  <table border=\"0\" cellspacing=\"3\" cellpadding=...   \n",
       "4268   <table border=\"0\" cellspacing=\"3\" cellpadding=...   \n",
       "1663   <table border=\"0\" cellspacing=\"3\" cellpadding=...   \n",
       "3789   <table border=\"0\" cellspacing=\"3\" cellpadding=...   \n",
       "6657   <table border=\"0\" cellspacing=\"3\" cellpadding=...   \n",
       "\n",
       "                                            article_text  \\\n",
       "10900  New Delhi [India], Dec 20 (ANI): A financing a...   \n",
       "4268   Development projects worth more than Rs 40,000...   \n",
       "1663   Ten Lessons\\n\\nDevelopment with Chinese Charac...   \n",
       "3789   Minister of Industry, Commerce, Agriculture an...   \n",
       "6657   The Asian Development Bank's (ADB) Board of Di...   \n",
       "\n",
       "                                        article_keywords  article_text_len  \\\n",
       "10900  [institutes, india, skill, financing, training...              1031   \n",
       "4268   [development, crore, andhra, eaps, state, proj...              4390   \n",
       "1663   [transitions, university, chinese, united, dev...               575   \n",
       "3789   [research, development, agriculture, fisheries...              2621   \n",
       "6657   [highways, improvement, india, state, upgrade,...              2532   \n",
       "\n",
       "      top_lang  \n",
       "10900       en  \n",
       "4268        en  \n",
       "1663        en  \n",
       "3789        en  \n",
       "6657        en  "
      ]
     },
     "execution_count": 9,
     "metadata": {},
     "output_type": "execute_result"
    }
   ],
   "source": [
    "newsData.head()"
   ]
  },
  {
   "cell_type": "code",
   "execution_count": 10,
   "metadata": {
    "collapsed": true
   },
   "outputs": [],
   "source": [
    "bankNewsData = pd.merge(bankLabel,newsData[['article_id','article_text','article_keywords']], on = 'article_id')"
   ]
  },
  {
   "cell_type": "markdown",
   "metadata": {},
   "source": [
    "---------------"
   ]
  },
  {
   "cell_type": "markdown",
   "metadata": {},
   "source": [
    "# Bank Tags - One possible direction\n",
    "\n",
    "1. we can extract banks from article text, article key words,feedlabel to see if bank title is in title, artile text or article key words. create binary feature out of this\n",
    "\n",
    "2. cross check which binary feature is most predictive of bank tags and use this as a heuristic rules to tag all the news feed\n",
    "\n",
    "3. manually sanity check the tag results\n"
   ]
  },
  {
   "cell_type": "code",
   "execution_count": 50,
   "metadata": {},
   "outputs": [
    {
     "data": {
      "text/plain": [
       "array(['adb', 'afdb', 'aiib', 'ebrd', 'eib', 'idb', 'wb'], dtype=object)"
      ]
     },
     "execution_count": 50,
     "metadata": {},
     "output_type": "execute_result"
    }
   ],
   "source": [
    "bankNames = bankNewsData['Bank1'].unique()\n",
    "bankNames"
   ]
  },
  {
   "cell_type": "markdown",
   "metadata": {},
   "source": [
    "   try build a function to iterate through  the title and bank names to check if bank key words are there"
   ]
  },
  {
   "cell_type": "code",
   "execution_count": 51,
   "metadata": {},
   "outputs": [
    {
     "data": {
      "text/plain": [
       "True"
      ]
     },
     "execution_count": 51,
     "metadata": {},
     "output_type": "execute_result"
    }
   ],
   "source": [
    "'adb' in bankNewsData['title'].iloc[0].lower().split()"
   ]
  },
  {
   "cell_type": "code",
   "execution_count": 17,
   "metadata": {},
   "outputs": [
    {
     "data": {
      "text/plain": [
       "True"
      ]
     },
     "execution_count": 17,
     "metadata": {},
     "output_type": "execute_result"
    }
   ],
   "source": [
    "'adb' in bankNewsData['article_keywords'].iloc[0]"
   ]
  },
  {
   "cell_type": "code",
   "execution_count": 19,
   "metadata": {},
   "outputs": [
    {
     "data": {
      "text/plain": [
       "'NEWS ADB - All Streams'"
      ]
     },
     "execution_count": 19,
     "metadata": {},
     "output_type": "execute_result"
    }
   ],
   "source": [
    "bankNewsData['feed_label'].iloc[0]"
   ]
  },
  {
   "cell_type": "code",
   "execution_count": 24,
   "metadata": {},
   "outputs": [
    {
     "data": {
      "text/plain": [
       "True"
      ]
     },
     "execution_count": 24,
     "metadata": {},
     "output_type": "execute_result"
    }
   ],
   "source": [
    "'adb' in bankNewsData['feed_label'].iloc[0].lower().split(' ')"
   ]
  },
  {
   "cell_type": "markdown",
   "metadata": {},
   "source": [
    "### this is just simple keyword matching and we can be a lot more creative, the next step is to check if when any of the binary feature is true, what percentage of it is properly assigned ###"
   ]
  },
  {
   "cell_type": "markdown",
   "metadata": {},
   "source": [
    "--------------------"
   ]
  },
  {
   "cell_type": "markdown",
   "metadata": {},
   "source": [
    "# Country Tags "
   ]
  },
  {
   "cell_type": "markdown",
   "metadata": {},
   "source": [
    "**Simple demo **"
   ]
  },
  {
   "cell_type": "markdown",
   "metadata": {},
   "source": [
    "country code names : http://www.geonames.org/countries/"
   ]
  },
  {
   "cell_type": "code",
   "execution_count": 5,
   "metadata": {},
   "outputs": [],
   "source": [
    "from geotext import GeoText\n"
   ]
  },
  {
   "cell_type": "code",
   "execution_count": 21,
   "metadata": {},
   "outputs": [
    {
     "name": "stdout",
     "output_type": "stream",
     "text": [
      "India, World Bank sign financing agreement for skill enhancement project OrderedDict([('IN', 1)]) OrderedDict([('IN', 5)])\n",
      "Rs 40000-crore development projects in limbo in Andhra OrderedDict() OrderedDict([('TR', 1), ('IN', 1)])\n",
      "https://www.the-american-interest.com/2018/01/03/development-chinese-characteristics/ OrderedDict() OrderedDict([('CN', 2)])\n",
      "$300 Million to Expand and Upgrade Infrastructure at Bodles Research Station OrderedDict() OrderedDict([('JM', 4)])\n",
      "ADB Provides $346 Million to Upgrade State Highways in Karnataka, India OrderedDict([('IN', 1)]) OrderedDict([('IN', 2)])\n"
     ]
    }
   ],
   "source": [
    "for t, p in zip(newsData.title.head(), newsData.article_text.head()):\n",
    "    places_title, places_text = GeoText(t), GeoText(p)\n",
    "    print( t , places_title.country_mentions, places_text.country_mentions)"
   ]
  },
  {
   "cell_type": "code",
   "execution_count": 19,
   "metadata": {},
   "outputs": [
    {
     "name": "stdout",
     "output_type": "stream",
     "text": [
      "Minister of Industry, Commerce, Agriculture and Fisheries, Hon. Audley Shaw . + - Photo: Dave Reid Minister of Industry, Commerce, Agriculture and Fisheries, Hon. Audley Shaw . Story Highlights The Government has allocated some $300 million towards the Bodles Research Station redevelopment programme.\n",
      "\n",
      "The funds are to be used to expand and upgrade the infrastructure of the facility located in Old Harbour, St. Catherine.\n",
      "\n",
      "Minister of Industry, Commerce, Agriculture and Fisheries, Hon. Audley Shaw, made the disclosure at a signing ceremony for a memorandum of understanding (MOU) between the Ministry and the Caribbean Agricultural Research and Development Institute (CARDI) for the refurbishing of the Bodles Research Station’s seed laboratory and storage facility on April 25, at the Ministry in New Kingston.\n",
      "\n",
      "\n",
      "\n",
      "The Government has allocated some $300 million towards the Bodles Research Station redevelopment programme.\n",
      "\n",
      "The funds are to be used to expand and upgrade the infrastructure of the facility located in Old Harbour, St. Catherine.\n",
      "\n",
      "Minister of Industry, Commerce, Agriculture and Fisheries, Hon. Audley Shaw, made the disclosure at a signing ceremony for a memorandum of understanding (MOU) between the Ministry and the Caribbean Agricultural Research and Development Institute (CARDI) for the refurbishing of the Bodles Research Station’s seed laboratory and storage facility on April 25, at the Ministry in New Kingston.\n",
      "\n",
      "Mr Shaw said the redevelopment works include improvements to security, road network, farm buildings, water supply, irrigation systems, greenhouses, seed and post-harvest facilities.\n",
      "\n",
      "In addition, the Ministry has collaborated with the Jamaica Dairy Development Board for the rehabilitation of the forage systems and pastures to improve nutrition and productivity of the animals at the facility.\n",
      "\n",
      "Minister Shaw said phase one of the renovations of the existing dairy parlour has already been completed.\n",
      "\n",
      "Also, the Ministry is aiming to restructure the entire Research and Development Division to attract and retain highly skilled personnel to the research and innovation agenda, particularly in the area of sustainable agriculture, with emphasis on development and production.\n",
      "\n",
      "Focus will also be placed on the utilisation of diverse genetic material with climate resilient traits; and strengthening of the country’s response and recovery to shocks in the environment such as draught, temperature increase as well as plant and animal diseases.\n",
      "\n",
      "“We intend to return Bodles to its pride of place and a centre of excellence in agricultural research in the Caribbean,” Mr. Shaw said.\n"
     ]
    }
   ],
   "source": [
    "print(newsData.iloc[3].article_text)"
   ]
  },
  {
   "cell_type": "code",
   "execution_count": 22,
   "metadata": {},
   "outputs": [],
   "source": [
    "countryLabels = pd.read_csv('../Data/Labeled_Data/countries.csv')"
   ]
  },
  {
   "cell_type": "code",
   "execution_count": 23,
   "metadata": {},
   "outputs": [
    {
     "data": {
      "text/html": [
       "<div>\n",
       "<style scoped>\n",
       "    .dataframe tbody tr th:only-of-type {\n",
       "        vertical-align: middle;\n",
       "    }\n",
       "\n",
       "    .dataframe tbody tr th {\n",
       "        vertical-align: top;\n",
       "    }\n",
       "\n",
       "    .dataframe thead th {\n",
       "        text-align: right;\n",
       "    }\n",
       "</style>\n",
       "<table border=\"1\" class=\"dataframe\">\n",
       "  <thead>\n",
       "    <tr style=\"text-align: right;\">\n",
       "      <th></th>\n",
       "      <th>article_id</th>\n",
       "      <th>published</th>\n",
       "      <th>title</th>\n",
       "      <th>url</th>\n",
       "      <th>feed_label</th>\n",
       "      <th>Country1</th>\n",
       "    </tr>\n",
       "  </thead>\n",
       "  <tbody>\n",
       "    <tr>\n",
       "      <th>0</th>\n",
       "      <td>10f9ed2</td>\n",
       "      <td>2018-01-11</td>\n",
       "      <td>ADB Provides Support for Three Infrastructure ...</td>\n",
       "      <td>http://moderndiplomacy.eu/2018/01/11/adb-provi...</td>\n",
       "      <td>NEWS ADB - All Streams</td>\n",
       "      <td>cambodia</td>\n",
       "    </tr>\n",
       "    <tr>\n",
       "      <th>1</th>\n",
       "      <td>c0eece9b</td>\n",
       "      <td>2018-05-13</td>\n",
       "      <td>ADB Helps Inaugurate New Power Distribution Ne...</td>\n",
       "      <td>http://feedproxy.google.com/~r/adb_news/~3/2My...</td>\n",
       "      <td>NEWS ADB - All Streams</td>\n",
       "      <td>afghanistan</td>\n",
       "    </tr>\n",
       "    <tr>\n",
       "      <th>2</th>\n",
       "      <td>d1d79dd8</td>\n",
       "      <td>2018-02-20</td>\n",
       "      <td>ADB Provides $360 Million for Rolling Stock to...</td>\n",
       "      <td>http://feedproxy.google.com/~r/adb_news/~3/v9s...</td>\n",
       "      <td>NEWS ADB - All Streams</td>\n",
       "      <td>bangladesh</td>\n",
       "    </tr>\n",
       "    <tr>\n",
       "      <th>3</th>\n",
       "      <td>f0d65e5</td>\n",
       "      <td>2018-02-25</td>\n",
       "      <td>ADB provides financing to Thailand's B.Grimm P...</td>\n",
       "      <td>https://www.dealstreetasia.com/stories/adb-b-g...</td>\n",
       "      <td>NEWS ADB - All Streams</td>\n",
       "      <td>thailand</td>\n",
       "    </tr>\n",
       "    <tr>\n",
       "      <th>4</th>\n",
       "      <td>4a557358</td>\n",
       "      <td>2018-02-26</td>\n",
       "      <td>ADB's $235m loan to support B.Grimm Power expa...</td>\n",
       "      <td>https://www.power-technology.com/news/adbs-235...</td>\n",
       "      <td>NEWS ADB - All Streams</td>\n",
       "      <td>thailand</td>\n",
       "    </tr>\n",
       "  </tbody>\n",
       "</table>\n",
       "</div>"
      ],
      "text/plain": [
       "  article_id   published                                              title  \\\n",
       "0    10f9ed2  2018-01-11  ADB Provides Support for Three Infrastructure ...   \n",
       "1   c0eece9b  2018-05-13  ADB Helps Inaugurate New Power Distribution Ne...   \n",
       "2   d1d79dd8  2018-02-20  ADB Provides $360 Million for Rolling Stock to...   \n",
       "3    f0d65e5  2018-02-25  ADB provides financing to Thailand's B.Grimm P...   \n",
       "4   4a557358  2018-02-26  ADB's $235m loan to support B.Grimm Power expa...   \n",
       "\n",
       "                                                 url              feed_label  \\\n",
       "0  http://moderndiplomacy.eu/2018/01/11/adb-provi...  NEWS ADB - All Streams   \n",
       "1  http://feedproxy.google.com/~r/adb_news/~3/2My...  NEWS ADB - All Streams   \n",
       "2  http://feedproxy.google.com/~r/adb_news/~3/v9s...  NEWS ADB - All Streams   \n",
       "3  https://www.dealstreetasia.com/stories/adb-b-g...  NEWS ADB - All Streams   \n",
       "4  https://www.power-technology.com/news/adbs-235...  NEWS ADB - All Streams   \n",
       "\n",
       "      Country1  \n",
       "0     cambodia  \n",
       "1  afghanistan  \n",
       "2   bangladesh  \n",
       "3     thailand  \n",
       "4     thailand  "
      ]
     },
     "execution_count": 23,
     "metadata": {},
     "output_type": "execute_result"
    }
   ],
   "source": [
    "countryLabels.head()"
   ]
  },
  {
   "cell_type": "markdown",
   "metadata": {},
   "source": [
    "# Sector Tags "
   ]
  },
  {
   "cell_type": "code",
   "execution_count": null,
   "metadata": {},
   "outputs": [],
   "source": []
  },
  {
   "cell_type": "markdown",
   "metadata": {},
   "source": [
    "This is a tougher one .. we could use the project description information and the sector tags from the Projects data - and try to transfer a model to the news articles. \n",
    "\n",
    "Or we could try to apply some other model or logic to derive the sectors. \n",
    "\n",
    "\n",
    "See the sector information here : https://docs.google.com/document/d/1bU45HW4wavUKkrd0mzGzzrwTKUgejNgL-gW_AS465IU/edit\n",
    "\n"
   ]
  },
  {
   "cell_type": "code",
   "execution_count": 24,
   "metadata": {},
   "outputs": [],
   "source": [
    "sectorLabels = pd.read_csv('../Data/Labeled_Data/sectors.csv')"
   ]
  },
  {
   "cell_type": "code",
   "execution_count": 25,
   "metadata": {},
   "outputs": [
    {
     "data": {
      "text/html": [
       "<div>\n",
       "<style scoped>\n",
       "    .dataframe tbody tr th:only-of-type {\n",
       "        vertical-align: middle;\n",
       "    }\n",
       "\n",
       "    .dataframe tbody tr th {\n",
       "        vertical-align: top;\n",
       "    }\n",
       "\n",
       "    .dataframe thead th {\n",
       "        text-align: right;\n",
       "    }\n",
       "</style>\n",
       "<table border=\"1\" class=\"dataframe\">\n",
       "  <thead>\n",
       "    <tr style=\"text-align: right;\">\n",
       "      <th></th>\n",
       "      <th>article_id</th>\n",
       "      <th>published</th>\n",
       "      <th>title</th>\n",
       "      <th>url</th>\n",
       "      <th>feed_label</th>\n",
       "      <th>Sectors</th>\n",
       "      <th>cl_Sector</th>\n",
       "      <th>top_sector</th>\n",
       "    </tr>\n",
       "  </thead>\n",
       "  <tbody>\n",
       "    <tr>\n",
       "      <th>0</th>\n",
       "      <td>10f9ed2</td>\n",
       "      <td>2018-01-11</td>\n",
       "      <td>ADB Provides Support for Three Infrastructure ...</td>\n",
       "      <td>http://moderndiplomacy.eu/2018/01/11/adb-provi...</td>\n",
       "      <td>NEWS ADB - All Streams</td>\n",
       "      <td>Infrastructure</td>\n",
       "      <td>infrastructure</td>\n",
       "      <td>infrastructure</td>\n",
       "    </tr>\n",
       "    <tr>\n",
       "      <th>1</th>\n",
       "      <td>c0eece9b</td>\n",
       "      <td>2018-05-13</td>\n",
       "      <td>ADB Helps Inaugurate New Power Distribution Ne...</td>\n",
       "      <td>http://feedproxy.google.com/~r/adb_news/~3/2My...</td>\n",
       "      <td>NEWS ADB - All Streams</td>\n",
       "      <td>Energy</td>\n",
       "      <td>energy</td>\n",
       "      <td>energy</td>\n",
       "    </tr>\n",
       "    <tr>\n",
       "      <th>2</th>\n",
       "      <td>d1d79dd8</td>\n",
       "      <td>2018-02-20</td>\n",
       "      <td>ADB Provides $360 Million for Rolling Stock to...</td>\n",
       "      <td>http://feedproxy.google.com/~r/adb_news/~3/v9s...</td>\n",
       "      <td>NEWS ADB - All Streams</td>\n",
       "      <td>Transport</td>\n",
       "      <td>transport</td>\n",
       "      <td>transport</td>\n",
       "    </tr>\n",
       "    <tr>\n",
       "      <th>3</th>\n",
       "      <td>f0d65e5</td>\n",
       "      <td>2018-02-25</td>\n",
       "      <td>ADB provides financing to Thailand's B.Grimm P...</td>\n",
       "      <td>https://www.dealstreetasia.com/stories/adb-b-g...</td>\n",
       "      <td>NEWS ADB - All Streams</td>\n",
       "      <td>Construction, Finance</td>\n",
       "      <td>construction, finance</td>\n",
       "      <td>construction</td>\n",
       "    </tr>\n",
       "    <tr>\n",
       "      <th>4</th>\n",
       "      <td>4a557358</td>\n",
       "      <td>2018-02-26</td>\n",
       "      <td>ADB's $235m loan to support B.Grimm Power expa...</td>\n",
       "      <td>https://www.power-technology.com/news/adbs-235...</td>\n",
       "      <td>NEWS ADB - All Streams</td>\n",
       "      <td>Construction, Finance</td>\n",
       "      <td>construction, finance</td>\n",
       "      <td>construction</td>\n",
       "    </tr>\n",
       "  </tbody>\n",
       "</table>\n",
       "</div>"
      ],
      "text/plain": [
       "  article_id   published                                              title  \\\n",
       "0    10f9ed2  2018-01-11  ADB Provides Support for Three Infrastructure ...   \n",
       "1   c0eece9b  2018-05-13  ADB Helps Inaugurate New Power Distribution Ne...   \n",
       "2   d1d79dd8  2018-02-20  ADB Provides $360 Million for Rolling Stock to...   \n",
       "3    f0d65e5  2018-02-25  ADB provides financing to Thailand's B.Grimm P...   \n",
       "4   4a557358  2018-02-26  ADB's $235m loan to support B.Grimm Power expa...   \n",
       "\n",
       "                                                 url              feed_label  \\\n",
       "0  http://moderndiplomacy.eu/2018/01/11/adb-provi...  NEWS ADB - All Streams   \n",
       "1  http://feedproxy.google.com/~r/adb_news/~3/2My...  NEWS ADB - All Streams   \n",
       "2  http://feedproxy.google.com/~r/adb_news/~3/v9s...  NEWS ADB - All Streams   \n",
       "3  https://www.dealstreetasia.com/stories/adb-b-g...  NEWS ADB - All Streams   \n",
       "4  https://www.power-technology.com/news/adbs-235...  NEWS ADB - All Streams   \n",
       "\n",
       "                 Sectors              cl_Sector      top_sector  \n",
       "0         Infrastructure         infrastructure  infrastructure  \n",
       "1                 Energy                 energy          energy  \n",
       "2              Transport              transport       transport  \n",
       "3  Construction, Finance  construction, finance    construction  \n",
       "4  Construction, Finance  construction, finance    construction  "
      ]
     },
     "execution_count": 25,
     "metadata": {},
     "output_type": "execute_result"
    }
   ],
   "source": [
    "sectorLabels.head()"
   ]
  },
  {
   "cell_type": "code",
   "execution_count": null,
   "metadata": {},
   "outputs": [],
   "source": []
  }
 ],
 "metadata": {
  "kernelspec": {
   "display_name": "Python 3",
   "language": "python",
   "name": "python3"
  },
  "language_info": {
   "codemirror_mode": {
    "name": "ipython",
    "version": 3
   },
   "file_extension": ".py",
   "mimetype": "text/x-python",
   "name": "python",
   "nbconvert_exporter": "python",
   "pygments_lexer": "ipython3",
   "version": "3.6.5"
  }
 },
 "nbformat": 4,
 "nbformat_minor": 2
}
