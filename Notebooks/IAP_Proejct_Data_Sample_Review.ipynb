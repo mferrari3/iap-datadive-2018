{
 "cells": [
  {
   "cell_type": "markdown",
   "metadata": {},
   "source": [
    "# EWS Project Data  - Sample Review "
   ]
  },
  {
   "cell_type": "code",
   "execution_count": 52,
   "metadata": {
    "collapsed": true
   },
   "outputs": [],
   "source": [
    "import pandas as pd\n",
    "import numpy as np\n",
    "import os\n",
    "from collections import Counter\n",
    "%matplotlib inline\n",
    "pd.set_option('max_rows',300)"
   ]
  },
  {
   "cell_type": "markdown",
   "metadata": {},
   "source": [
    "**Note this encoding may be necessary because of odd characters in the dataframe**"
   ]
  },
  {
   "cell_type": "code",
   "execution_count": 54,
   "metadata": {
    "collapsed": true
   },
   "outputs": [],
   "source": [
    "projects=pd.read_csv('../Data/EWS_Published Project_Listing_DD.csv', encoding='ISO-8859-1')\n",
    "projects = projects[projects['EWS ID'].notnull()]"
   ]
  },
  {
   "cell_type": "code",
   "execution_count": 55,
   "metadata": {},
   "outputs": [
    {
     "data": {
      "text/plain": [
       "(6839, 62)"
      ]
     },
     "execution_count": 55,
     "metadata": {},
     "output_type": "execute_result"
    }
   ],
   "source": [
    "projects.shape"
   ]
  },
  {
   "cell_type": "code",
   "execution_count": 56,
   "metadata": {},
   "outputs": [
    {
     "data": {
      "text/html": [
       "<div>\n",
       "<style scoped>\n",
       "    .dataframe tbody tr th:only-of-type {\n",
       "        vertical-align: middle;\n",
       "    }\n",
       "\n",
       "    .dataframe tbody tr th {\n",
       "        vertical-align: top;\n",
       "    }\n",
       "\n",
       "    .dataframe thead th {\n",
       "        text-align: right;\n",
       "    }\n",
       "</style>\n",
       "<table border=\"1\" class=\"dataframe\">\n",
       "  <thead>\n",
       "    <tr style=\"text-align: right;\">\n",
       "      <th></th>\n",
       "      <th>EWS ID</th>\n",
       "      <th>ProjectNumber</th>\n",
       "      <th>Published</th>\n",
       "      <th>Bank Risk Rating</th>\n",
       "      <th>Project Status</th>\n",
       "      <th>EWS URL</th>\n",
       "      <th>Detailed Analysis URL</th>\n",
       "      <th>Project Name</th>\n",
       "      <th>City</th>\n",
       "      <th>Country Count</th>\n",
       "      <th>...</th>\n",
       "      <th>Sector 7</th>\n",
       "      <th>Last Edited</th>\n",
       "      <th>Date Scraped</th>\n",
       "      <th>Date Disclosed</th>\n",
       "      <th>Board Date</th>\n",
       "      <th>Source URL</th>\n",
       "      <th>Project Cost</th>\n",
       "      <th>Investment Amount</th>\n",
       "      <th>Project Description</th>\n",
       "      <th>Contact Information</th>\n",
       "    </tr>\n",
       "  </thead>\n",
       "  <tbody>\n",
       "    <tr>\n",
       "      <th>0</th>\n",
       "      <td>29164</td>\n",
       "      <td>AFDB-P-TN-BB0-007</td>\n",
       "      <td>Published</td>\n",
       "      <td>U</td>\n",
       "      <td>Proposed</td>\n",
       "      <td>https://ews.rightsindevelopment.org/projects/p...</td>\n",
       "      <td>NaN</td>\n",
       "      <td>TUNISIA FERTILIZER PROJECT</td>\n",
       "      <td>NaN</td>\n",
       "      <td>1</td>\n",
       "      <td>...</td>\n",
       "      <td>NaN</td>\n",
       "      <td>9/4/17</td>\n",
       "      <td>8/15/17</td>\n",
       "      <td>12/13/01</td>\n",
       "      <td>12/13/01</td>\n",
       "      <td>http://www.afdb.org/en/projects-and-operations...</td>\n",
       "      <td>NaN</td>\n",
       "      <td>NaN</td>\n",
       "      <td>None</td>\n",
       "      <td>ACCOUNTABILITY MECHANISM OF AfDB\\r\\r\\r\\rThe In...</td>\n",
       "    </tr>\n",
       "    <tr>\n",
       "      <th>1</th>\n",
       "      <td>29166</td>\n",
       "      <td>AFDB-P-SZ-HAA-001</td>\n",
       "      <td>Published</td>\n",
       "      <td>U</td>\n",
       "      <td>Approved</td>\n",
       "      <td>https://ews.rightsindevelopment.org/projects/p...</td>\n",
       "      <td>NaN</td>\n",
       "      <td>LINE OF CREDIT TO SWAZILAND DEVELOPMENT FINANC...</td>\n",
       "      <td>NaN</td>\n",
       "      <td>1</td>\n",
       "      <td>...</td>\n",
       "      <td>NaN</td>\n",
       "      <td>9/4/17</td>\n",
       "      <td>8/15/17</td>\n",
       "      <td>12/13/01</td>\n",
       "      <td>5/12/17</td>\n",
       "      <td>http://www.afdb.org/en/projects-and-operations...</td>\n",
       "      <td>4.76</td>\n",
       "      <td>1.36</td>\n",
       "      <td>None</td>\n",
       "      <td>MACHARIA Lilian Wanjiru - PIFD1\\r\\r\\r\\rACCOUNT...</td>\n",
       "    </tr>\n",
       "    <tr>\n",
       "      <th>2</th>\n",
       "      <td>29931</td>\n",
       "      <td>IADB-UR-T1100</td>\n",
       "      <td>Pending</td>\n",
       "      <td>C</td>\n",
       "      <td>Approved</td>\n",
       "      <td>https://ews.rightsindevelopment.org/projects/u...</td>\n",
       "      <td>NaN</td>\n",
       "      <td>Supporting INEFOP in Improving Labor Training ...</td>\n",
       "      <td>NaN</td>\n",
       "      <td>1</td>\n",
       "      <td>...</td>\n",
       "      <td>NaN</td>\n",
       "      <td>NaN</td>\n",
       "      <td>10/3/17</td>\n",
       "      <td>12/31/99</td>\n",
       "      <td>7/16/13</td>\n",
       "      <td>http://www.iadb.org/en/projects/project-descri...</td>\n",
       "      <td>0.44</td>\n",
       "      <td>0.44</td>\n",
       "      <td>NaN</td>\n",
       "      <td>NaN</td>\n",
       "    </tr>\n",
       "    <tr>\n",
       "      <th>3</th>\n",
       "      <td>30104</td>\n",
       "      <td>IADB-BR-T1279</td>\n",
       "      <td>Pending</td>\n",
       "      <td>C</td>\n",
       "      <td>Approved</td>\n",
       "      <td>https://ews.rightsindevelopment.org/projects/b...</td>\n",
       "      <td>NaN</td>\n",
       "      <td>Racial Equality and Social, Economic, Politica...</td>\n",
       "      <td>NaN</td>\n",
       "      <td>1</td>\n",
       "      <td>...</td>\n",
       "      <td>NaN</td>\n",
       "      <td>NaN</td>\n",
       "      <td>10/3/17</td>\n",
       "      <td>12/31/99</td>\n",
       "      <td>6/4/13</td>\n",
       "      <td>http://www.iadb.org/en/projects/project-descri...</td>\n",
       "      <td>0.97</td>\n",
       "      <td>0.82</td>\n",
       "      <td>NaN</td>\n",
       "      <td>NaN</td>\n",
       "    </tr>\n",
       "    <tr>\n",
       "      <th>4</th>\n",
       "      <td>30322</td>\n",
       "      <td>IADB-PE-T1297</td>\n",
       "      <td>Pending</td>\n",
       "      <td>C</td>\n",
       "      <td>Approved</td>\n",
       "      <td>https://ews.rightsindevelopment.org/projects/p...</td>\n",
       "      <td>NaN</td>\n",
       "      <td>Adaptation to Climate Change of the Fishery Se...</td>\n",
       "      <td>NaN</td>\n",
       "      <td>1</td>\n",
       "      <td>...</td>\n",
       "      <td>NaN</td>\n",
       "      <td>NaN</td>\n",
       "      <td>10/3/17</td>\n",
       "      <td>12/31/99</td>\n",
       "      <td>12/4/13</td>\n",
       "      <td>http://www.iadb.org/en/projects/project-descri...</td>\n",
       "      <td>1.50</td>\n",
       "      <td>1.50</td>\n",
       "      <td>NaN</td>\n",
       "      <td>NaN</td>\n",
       "    </tr>\n",
       "  </tbody>\n",
       "</table>\n",
       "<p>5 rows × 62 columns</p>\n",
       "</div>"
      ],
      "text/plain": [
       "   EWS ID      ProjectNumber  Published Bank Risk Rating Project Status  \\\n",
       "0   29164  AFDB-P-TN-BB0-007  Published                U       Proposed   \n",
       "1   29166  AFDB-P-SZ-HAA-001  Published                U       Approved   \n",
       "2   29931      IADB-UR-T1100    Pending                C       Approved   \n",
       "3   30104      IADB-BR-T1279    Pending                C       Approved   \n",
       "4   30322      IADB-PE-T1297    Pending                C       Approved   \n",
       "\n",
       "                                             EWS URL  Detailed Analysis URL  \\\n",
       "0  https://ews.rightsindevelopment.org/projects/p...                    NaN   \n",
       "1  https://ews.rightsindevelopment.org/projects/p...                    NaN   \n",
       "2  https://ews.rightsindevelopment.org/projects/u...                    NaN   \n",
       "3  https://ews.rightsindevelopment.org/projects/b...                    NaN   \n",
       "4  https://ews.rightsindevelopment.org/projects/p...                    NaN   \n",
       "\n",
       "                                        Project Name City  Country Count  \\\n",
       "0                         TUNISIA FERTILIZER PROJECT  NaN              1   \n",
       "1  LINE OF CREDIT TO SWAZILAND DEVELOPMENT FINANC...  NaN              1   \n",
       "2  Supporting INEFOP in Improving Labor Training ...  NaN              1   \n",
       "3  Racial Equality and Social, Economic, Politica...  NaN              1   \n",
       "4  Adaptation to Climate Change of the Fishery Se...  NaN              1   \n",
       "\n",
       "                         ...                         Sector 7 Last Edited  \\\n",
       "0                        ...                              NaN      9/4/17   \n",
       "1                        ...                              NaN      9/4/17   \n",
       "2                        ...                              NaN         NaN   \n",
       "3                        ...                              NaN         NaN   \n",
       "4                        ...                              NaN         NaN   \n",
       "\n",
       "  Date Scraped Date Disclosed Board Date  \\\n",
       "0      8/15/17       12/13/01   12/13/01   \n",
       "1      8/15/17       12/13/01    5/12/17   \n",
       "2      10/3/17       12/31/99    7/16/13   \n",
       "3      10/3/17       12/31/99     6/4/13   \n",
       "4      10/3/17       12/31/99    12/4/13   \n",
       "\n",
       "                                          Source URL Project Cost  \\\n",
       "0  http://www.afdb.org/en/projects-and-operations...          NaN   \n",
       "1  http://www.afdb.org/en/projects-and-operations...         4.76   \n",
       "2  http://www.iadb.org/en/projects/project-descri...         0.44   \n",
       "3  http://www.iadb.org/en/projects/project-descri...         0.97   \n",
       "4  http://www.iadb.org/en/projects/project-descri...         1.50   \n",
       "\n",
       "  Investment Amount Project Description  \\\n",
       "0               NaN                None   \n",
       "1              1.36                None   \n",
       "2              0.44                 NaN   \n",
       "3              0.82                 NaN   \n",
       "4              1.50                 NaN   \n",
       "\n",
       "                                 Contact Information  \n",
       "0  ACCOUNTABILITY MECHANISM OF AfDB\\r\\r\\r\\rThe In...  \n",
       "1  MACHARIA Lilian Wanjiru - PIFD1\\r\\r\\r\\rACCOUNT...  \n",
       "2                                                NaN  \n",
       "3                                                NaN  \n",
       "4                                                NaN  \n",
       "\n",
       "[5 rows x 62 columns]"
      ]
     },
     "execution_count": 56,
     "metadata": {},
     "output_type": "execute_result"
    }
   ],
   "source": [
    "projects.head()"
   ]
  },
  {
   "cell_type": "markdown",
   "metadata": {},
   "source": [
    "** Null Check **"
   ]
  },
  {
   "cell_type": "code",
   "execution_count": 29,
   "metadata": {},
   "outputs": [
    {
     "data": {
      "text/plain": [
       "EWS ID                   1.000000\n",
       "ProjectNumber            1.000000\n",
       "Published                1.000000\n",
       "Bank Risk Rating         1.000000\n",
       "Project Status           0.937564\n",
       "EWS URL                  1.000000\n",
       "Detailed Analysis URL    0.000000\n",
       "Project Name             0.999854\n",
       "City                     0.169762\n",
       "Country Count            1.000000\n",
       "Country 1                0.909782\n",
       "Country 2                0.035824\n",
       "Country 3                0.019886\n",
       "Country 4                0.011844\n",
       "Country 5                0.007750\n",
       "Country 6                0.005118\n",
       "Country 7                0.003363\n",
       "Country 8                0.001901\n",
       "Country 9                0.001608\n",
       "Country 10               0.001462\n",
       "Country 11               0.001024\n",
       "Country 12               0.000585\n",
       "Borrower or Client       0.761807\n",
       "Private Actor Count      0.999123\n",
       "Private Actor 1          0.077204\n",
       "Private Actor 2          0.017985\n",
       "Private Actor 3          0.006580\n",
       "Private Actor 4          0.003071\n",
       "Private Actor 5          0.002193\n",
       "Private Actor 6          0.000877\n",
       "Private Actor 7          0.000146\n",
       "Private Actor 8          0.000146\n",
       "Private Actor 9          0.000000\n",
       "Private Actor 10         0.000000\n",
       "Private Actor 11         0.000000\n",
       "Private Actor 12         0.000000\n",
       "Private Actor 13         0.000000\n",
       "Private Actor 14         0.000000\n",
       "Private Actor 15         0.000000\n",
       "Bank Count               1.000000\n",
       "Bank 1                   1.000000\n",
       "Bank 2                   0.009358\n",
       "Bank 3                   0.001755\n",
       "Bank 4                   0.000585\n",
       "Bank 5                   0.000000\n",
       "Sector Count             1.000000\n",
       "Sector 1                 0.823658\n",
       "Sector 2                 0.312180\n",
       "Sector 3                 0.096652\n",
       "Sector 4                 0.024126\n",
       "Sector 5                 0.006580\n",
       "Sector 6                 0.002047\n",
       "Sector 7                 0.000439\n",
       "Last Edited              0.896476\n",
       "Date Scraped             1.000000\n",
       "Date Disclosed           0.812253\n",
       "Board Date               0.795292\n",
       "Source URL               0.998830\n",
       "Project Cost             0.661646\n",
       "Investment Amount        0.865916\n",
       "Project Description      0.892236\n",
       "Contact Information      0.856558\n",
       "dtype: float64"
      ]
     },
     "execution_count": 29,
     "metadata": {},
     "output_type": "execute_result"
    }
   ],
   "source": [
    "projects.count()/len(projects.index)"
   ]
  },
  {
   "cell_type": "markdown",
   "metadata": {},
   "source": [
    "## Project Description Column will Likely Be most Useful for Matching "
   ]
  },
  {
   "cell_type": "markdown",
   "metadata": {},
   "source": [
    "**Notes**\n",
    "    * Some descriptions are pretty short - not sure how easy it will be to match to those\n",
    "    * Some of the other fields will likely be useful (Country, Borrower or Client, etc.)"
   ]
  },
  {
   "cell_type": "code",
   "execution_count": 57,
   "metadata": {
    "collapsed": true
   },
   "outputs": [
    {
     "name": "stdout",
     "output_type": "stream",
     "text": [
      "Community Health and SafetyThe Abidjan shopping mall is located in an urban area, and adjacent to a school. To increase traffic safety during operation, CFAO Retail built a small access road in front of the shopping mall and installed signage limiting speed around it.To address potential fire and life safety risks, CFAO Retail used French Standards for the Abidjan project. For each development, SGI shall provide a formal statement from a suitably qualified fire safety professional acceptable to IFC that the life and fire safety-related aspects of the building and fire safety system designs meet all local life and fire safety regulations and an internationally-accepted life safety code.  Following completion of construction and before public opening of any mall, SGI shall provide a second certification from a suitably qualified professional acceptable to IFC that the building and its fire safety systems were constructed according to the previously verified design or alternatively identify corrective features needed for design compliance and an implementation timeline.Security PersonnelAt the time of appraisal, security arrangements had already been made for the Abidjan site during construction with 26 non armed guards posted during the day and 11 during the night, and hired by a private security agency (G4S). CFAO Retail has also 20 staff directly responsible for surveillance of the shopping mall, CCTV management, and access control. CFAO Retail and G4S make reasonable inquiries to ensure that those providing security are not implicated in past abuses. The security agency trains agents adequately in the use of force and self-defense, fire safety, and appropriate conduct toward workers and Affected Communities; and require them to act within the applicable law.\n",
      "*****\n",
      "\n",
      "From the IDB: \"This project directly aligns with the MIF's Climate Smart Agriculture (CSA) program as it seeks to position Haiti as a supplier of sustainably produced vetiver and scale the introduction of CSA practices and technologies in the vetiver value chain. This intervention will improve the environmental and economic resilience of rural communities in two geographic departments (South and Southeast), integrating 500 small farmers' households - 30% of whom will be women into the vetiver value chain to increase their household income and continue to contribute to sustainable land management.\"\n",
      "*****\n",
      "\n",
      "From the IDB: \"The objective of this TC is to support The GoBH in developing a strategic business plan for the airports as a requirement of the Air Transport Reform Program and as a prerequisite conduct an assessment of risk and due diligence associated with structuring a public private partnership (PPP) for the rehabilitation and operation of the Family Island Airports so as to achieve the specific objective and standards required of a safe and efficient operation and management of the air transportation sector in the Family Islands.\"\n",
      "*****\n",
      "\n",
      "This project provides Project Preparatory Technical Assistance to perform due diligence required to prepare the investment plan and Tranche 1 of financing, and will assist in pre-implementation works.\n",
      "*****\n",
      "\n",
      "The project involves the design, construction and operation of a float glass manufacturing plant with a capacity of 500 tons per day (tpd) in Nigeria's Ogun Guangdong Free Trade Zone, about 30-km from Lagos. This would be CGHL's first construction material project in Africa.\n",
      "*****\n",
      "\n",
      "This project will finance a project preparatory technical assistance (TA) for phase 2 of the Infrastructure Sustainability Support Program.  Bank documents state that \"through this TA, Asian Development Bank (ADB) will flexibly provide strategic policy advice to the government in preparing the program, conduct necessary due diligence and support implementation of the tranche 1 policy actions.\"\n",
      "*****\n",
      "\n",
      "This operation will finance the activities of the Regional Policy Dialogue (RPD) in 2017. In 2000, the Bank's Board of Executive Directors approved the creation of the RPD (GN-2096-2). The general objective of the RPD is to promote a high-level policy dialogue between Latin American and Caribbean (LAC) countries and Bank officials, in order to identify innovative practices, strengthen institutional capacity, share experiences both from the region and from the rest of the world, and improve the quality of reform strategies. At the same time, the RPD provides the opportunity for the Bank to receive direct feedback about countries' public policy priorities, which subsequently informs Bank's future operational program.\n",
      "*****\n",
      "\n",
      "Institutionally strengthen the PGN to comply with its legal mandates and effectively prevent and control corruption.\n",
      "*****\n",
      "\n",
      "This project invests in a regional distressed asset resolution platform, and finances an equity investment in APS Holding, a regional distressed asset servicing and management company. By investing in assets that are being sold as a result of financial distress, the IFC aims to mobilize capital from the private sector, provide liquidity for new lending, and support banks to restructure balance sheets in the aftermath of the financial crisis.\n",
      "*****\n",
      "\n",
      "According to EIB website, The project is part of the investment programme of SOREGIES, one of the largest local distribution companies in France, for the period 2017-2021. The programme comprises the refurbishment and extension of its gas and electricity networks, the implementation of a smart metering system and the construction of new renewables capacity. The project comprises the following components:1. Implementation of a smart metering system2. Rehabilitation of the distribution network operated by the promoter in accordance with its multiannual concession plan3. Extension of the distribution network to connect new renewable capacities as part of the S3RENR master plan4. Extension of the gas distribution network5. Construction and operation of a portfolio of one windfarm and four solar photovoltaic power plants totalling 42MW.\n",
      "*****\n",
      "\n",
      "The project's objective is to develop a model for integrated e-waste management in three cities of Bolivia: La Paz, Cochabamba, and Santa Cruz.\n",
      "*****\n",
      "\n",
      "This project provides financing for Romania's 2014-2020 Rural Development Plan. This includes supporting investments in farm viability, sustainable forest management, and social inclusion, poverty reduction and economic development in rural areas.\n",
      "*****\n",
      "\n",
      "The consultants will be selected and engaged by ADB in accordance with the Guidelines on the Use of Consultants (2013, as amended from time to time) and lump sum payments and output-based contracts will be considered for consulting services. Procurement of equipment, computer hardware and software will follow ADB's Procurement Guidelines (2015, as amended from time to time). Equipment purchased will comply with ADB guidelines on accountability of assets purchased under technical assistance, and disposal will follow the procedures as per relevant project administration instructions. A certificate of turnover or disposal will be submitted at the end of the TA implementation.\n",
      "*****\n",
      "\n",
      "According to ADB documents, the safeguard categorization is not applicable.\n",
      "*****\n",
      "\n",
      "According to ADB website, ADB support for the Timor-Leste Coffee Association is helping it to become a credible representative and advocate in the sector. The project impact will be poverty is reduced through sustained improvements in the volume and quality of coffee produced by smallholder farmers.\n",
      "*****\n",
      "\n"
     ]
    }
   ],
   "source": [
    "for i in projects.sample(15)['Project Description']:\n",
    "    print(i)\n",
    "    print('*****\\n')"
   ]
  },
  {
   "cell_type": "markdown",
   "metadata": {},
   "source": [
    "## Looking at the Sector Data \n",
    "\n",
    "This could be a dataset that could help in the tagging of the news articles with (Sector Infortmation)"
   ]
  },
  {
   "cell_type": "code",
   "execution_count": 30,
   "metadata": {
    "collapsed": true
   },
   "outputs": [],
   "source": [
    "def get_category_cols(category, additional_removes=None):\n",
    "    cols = [i for i in projects.columns if category in i]\n",
    "    cols.remove(category + ' Count')\n",
    "    if additional_removes:\n",
    "        [cols.remove(i) for i in additional_removes]\n",
    "    return cols\n",
    "\n",
    "sector_cols = get_category_cols('Sector')   \n",
    "all_sectors = projects[sector_cols].as_matrix().flatten()\n"
   ]
  },
  {
   "cell_type": "code",
   "execution_count": 31,
   "metadata": {},
   "outputs": [
    {
     "name": "stdout",
     "output_type": "stream",
     "text": [
      "nan\n",
      "Climate and Environment\n",
      "Mining\n",
      "Infrastructure\n",
      "Finance\n",
      "Humanitarian Response\n",
      "Agriculture and Forestry\n",
      "Transport\n",
      "Education and Health\n",
      "Hydropower\n",
      "Communications\n",
      "Construction\n",
      "Technical Cooperation\n",
      "Water and Sanitation\n",
      "Energy\n",
      "Industry and Trade\n",
      "Law and Government\n"
     ]
    }
   ],
   "source": [
    "for i in Counter(all_sectors): print(i)"
   ]
  },
  {
   "cell_type": "markdown",
   "metadata": {},
   "source": [
    "--------------"
   ]
  },
  {
   "cell_type": "markdown",
   "metadata": {},
   "source": [
    "# NOTE "
   ]
  },
  {
   "cell_type": "markdown",
   "metadata": {},
   "source": [
    "Might be able to use this to also classify the Bank and Country "
   ]
  },
  {
   "cell_type": "markdown",
   "metadata": {},
   "source": [
    "**Countries**"
   ]
  },
  {
   "cell_type": "code",
   "execution_count": 32,
   "metadata": {},
   "outputs": [
    {
     "name": "stdout",
     "output_type": "stream",
     "text": [
      "180\n"
     ]
    },
    {
     "data": {
      "text/plain": [
       "Counter({nan: 75228,\n",
       "         u'Afghanistan': 48,\n",
       "         u'Albania': 27,\n",
       "         u'Algeria': 3,\n",
       "         u'Angola': 8,\n",
       "         u'Argentina': 163,\n",
       "         u'Armenia': 50,\n",
       "         u'Austria': 24,\n",
       "         u'Azerbaijan': 31,\n",
       "         u'Bahamas': 30,\n",
       "         u'Bangladesh': 140,\n",
       "         u'Barbados': 14,\n",
       "         u'Belarus': 17,\n",
       "         u'Belgium': 25,\n",
       "         u'Belize': 17,\n",
       "         u'Benin': 13,\n",
       "         u'Bhutan': 36,\n",
       "         u'Bolivia': 106,\n",
       "         u'Bosnia and Herzegovina': 34,\n",
       "         u'Botswana': 5,\n",
       "         u'Brazil': 213,\n",
       "         u'Bulgaria': 22,\n",
       "         u'Burkina Faso': 23,\n",
       "         u'Burundi': 9,\n",
       "         u'Cambodia': 72,\n",
       "         u'Cameroon': 26,\n",
       "         u'Canada': 1,\n",
       "         u'Cape Verde': 6,\n",
       "         u'Central African Republic': 16,\n",
       "         u'Chad': 17,\n",
       "         u'Chile': 82,\n",
       "         u'China': 255,\n",
       "         u'Colombia': 168,\n",
       "         u'Comoros': 2,\n",
       "         u'Congo, Democratic Republic of': 26,\n",
       "         u'Congo, Republic of': 9,\n",
       "         u'Cook Islands': 1,\n",
       "         u'Costa Rica': 49,\n",
       "         u'Croatia': 37,\n",
       "         u'Cyprus': 5,\n",
       "         u'Czech Republic': 26,\n",
       "         u'Denmark': 21,\n",
       "         u'Djibouti': 10,\n",
       "         u'Dominica': 3,\n",
       "         u'Dominican Republic': 47,\n",
       "         u'Ecuador': 113,\n",
       "         u'Egypt': 134,\n",
       "         u'El Salvador': 43,\n",
       "         u'Equatorial Guinea': 2,\n",
       "         u'Estonia': 5,\n",
       "         u'Ethiopia': 37,\n",
       "         u'Fiji': 20,\n",
       "         u'Finland': 32,\n",
       "         u'France': 104,\n",
       "         u'Gabon': 7,\n",
       "         u'Gambia': 8,\n",
       "         u'Georgia': 82,\n",
       "         u'Germany': 72,\n",
       "         u'Ghana': 44,\n",
       "         u'Greece': 59,\n",
       "         u'Grenada': 3,\n",
       "         u'Guatemala': 51,\n",
       "         u'Guinea': 17,\n",
       "         u'Guinea-Bissau': 6,\n",
       "         u'Guyana': 42,\n",
       "         u'Haiti': 50,\n",
       "         u'Honduras': 61,\n",
       "         u'Hungary': 25,\n",
       "         u'Iceland': 2,\n",
       "         u'India': 291,\n",
       "         u'Indonesia': 103,\n",
       "         u'Iraq': 11,\n",
       "         u'Ireland': 20,\n",
       "         u'Italy': 118,\n",
       "         u'Ivory Coast': 34,\n",
       "         u'Jamaica': 50,\n",
       "         u'Japan': 1,\n",
       "         u'Jordan': 53,\n",
       "         u'Kazakhstan': 65,\n",
       "         u'Kenya': 64,\n",
       "         u'Kiribati': 11,\n",
       "         u'Kosovo': 15,\n",
       "         u'Kyrgyzstan': 38,\n",
       "         u'Laos': 44,\n",
       "         u'Latvia': 10,\n",
       "         u'Lebanon': 26,\n",
       "         u'Lesotho': 9,\n",
       "         u'Liberia': 20,\n",
       "         u'Lithuania': 11,\n",
       "         u'Luxembourg': 4,\n",
       "         u'Macedonia': 7,\n",
       "         u'Madagascar': 29,\n",
       "         u'Malawi': 17,\n",
       "         u'Malaysia': 6,\n",
       "         u'Maldives': 12,\n",
       "         u'Mali': 22,\n",
       "         u'Malta': 4,\n",
       "         u'Marshall Islands': 11,\n",
       "         u'Mauritania': 9,\n",
       "         u'Mauritius': 6,\n",
       "         u'Mexico': 137,\n",
       "         u'Micronesia': 7,\n",
       "         u'Moldova': 23,\n",
       "         u'Mongolia': 104,\n",
       "         u'Montenegro': 17,\n",
       "         u'Morocco': 34,\n",
       "         u'Mozambique': 16,\n",
       "         u'Myanmar': 85,\n",
       "         u'Namibia': 8,\n",
       "         u'Nauru': 9,\n",
       "         u'Nepal': 47,\n",
       "         u'Netherlands': 38,\n",
       "         u'New Caledonia': 1,\n",
       "         u'Nicaragua': 69,\n",
       "         u'Niger': 12,\n",
       "         u'Nigeria': 59,\n",
       "         u'Norway': 3,\n",
       "         u'Oman': 3,\n",
       "         u'Pakistan': 130,\n",
       "         u'Palau': 5,\n",
       "         u'Palestine, West Bank, Gaza': 15,\n",
       "         u'Panama': 66,\n",
       "         u'Papua New Guinea': 24,\n",
       "         u'Paraguay': 91,\n",
       "         u'Peru': 129,\n",
       "         u'Philippines': 71,\n",
       "         u'Poland': 118,\n",
       "         u'Portugal': 32,\n",
       "         u'Romania': 67,\n",
       "         u'Russia': 5,\n",
       "         u'Rwanda': 36,\n",
       "         u'Samoa': 13,\n",
       "         u'Sao Tome and Principe': 6,\n",
       "         u'Saudi Arabia': 2,\n",
       "         u'Senegal': 40,\n",
       "         u'Serbia': 41,\n",
       "         u'Seychelles': 1,\n",
       "         u'Sierra Leone': 19,\n",
       "         u'Singapore': 4,\n",
       "         u'Slovakia': 22,\n",
       "         u'Slovenia': 9,\n",
       "         u'Solomon Islands': 24,\n",
       "         u'Somalia': 7,\n",
       "         u'South Africa': 42,\n",
       "         u'South Korea': 1,\n",
       "         u'South Sudan': 8,\n",
       "         u'Spain': 105,\n",
       "         u'Sri Lanka': 74,\n",
       "         u'St. Lucia': 3,\n",
       "         u'St. Vincent and the Grenadines': 2,\n",
       "         u'Sudan': 3,\n",
       "         u'Suriname': 25,\n",
       "         u'Swaziland': 3,\n",
       "         u'Sweden': 26,\n",
       "         u'Switzerland': 1,\n",
       "         u'Taiwan': 1,\n",
       "         u'Tajikistan': 49,\n",
       "         u'Tanzania': 34,\n",
       "         u'Thailand': 22,\n",
       "         u'Timor-Leste': 14,\n",
       "         u'Togo': 12,\n",
       "         u'Tonga': 16,\n",
       "         u'Trinidad and Tobago': 9,\n",
       "         u'Tunisia': 40,\n",
       "         u'Turkey': 150,\n",
       "         u'Turkmenistan': 9,\n",
       "         u'Tuvalu': 10,\n",
       "         u'Uganda': 30,\n",
       "         u'Ukraine': 56,\n",
       "         u'United Arab Emirates': 1,\n",
       "         u'United Kingdom': 30,\n",
       "         u'United States of America': 1,\n",
       "         u'Uruguay': 82,\n",
       "         u'Uzbekistan': 66,\n",
       "         u'Vanuatu': 16,\n",
       "         u'Venezuela': 9,\n",
       "         u'Vietnam': 105,\n",
       "         u'Yemen': 9,\n",
       "         u'Zambia': 40,\n",
       "         u'Zimbabwe': 10})"
      ]
     },
     "execution_count": 32,
     "metadata": {},
     "output_type": "execute_result"
    }
   ],
   "source": [
    "country_cols = get_category_cols('Country')\n",
    "all_countries = projects[country_cols].as_matrix().flatten()\n",
    "country_counter = Counter(all_countries)\n",
    "print(len(country_counter))\n",
    "country_counter"
   ]
  },
  {
   "cell_type": "markdown",
   "metadata": {},
   "source": [
    "**Banks**"
   ]
  },
  {
   "cell_type": "code",
   "execution_count": 33,
   "metadata": {},
   "outputs": [
    {
     "name": "stdout",
     "output_type": "stream",
     "text": [
      "13\n"
     ]
    },
    {
     "data": {
      "text/plain": [
       "Counter({u'African Development Bank (AFDB)': 86,\n",
       "         u'Asian Development Bank (ADB)': 1159,\n",
       "         u'Asian Infrastructure Investment Bank (AIIB)': 62,\n",
       "         u'European Bank for Reconstruction and Development (EBRD)': 496,\n",
       "         u'European Investment Bank (EIB)': 1029,\n",
       "         u'Green Climate Fund (GCF)': 72,\n",
       "         u'Inter-American Development Bank (IADB)': 1585,\n",
       "         u'Inter-American Investment Corporation (IIC)': 135,\n",
       "         u'International Finance Corporation (IFC)': 1057,\n",
       "         u'Multilateral Investment Guarantee Agency (MIGA)': 88,\n",
       "         u'Netherlands Development Finance Company (FMO)': 249,\n",
       "         u'New Development Bank (NDB)': 13,\n",
       "         u'World Bank (WB)': 888})"
      ]
     },
     "execution_count": 33,
     "metadata": {},
     "output_type": "execute_result"
    }
   ],
   "source": [
    "banks_cols = get_category_cols('Bank', ['Bank Risk Rating'])\n",
    "all_banks = projects[banks_cols].as_matrix().flatten()\n",
    "all_banks = [i for i  in all_banks if  pd.notnull(i)] ## Something weird with the nulls in this one. \n",
    "banks_counter = Counter(all_banks)\n",
    "print(len(banks_counter))\n",
    "banks_counter"
   ]
  },
  {
   "cell_type": "code",
   "execution_count": 34,
   "metadata": {},
   "outputs": [
    {
     "name": "stdout",
     "output_type": "stream",
     "text": [
      "Green Climate Fund (GCF)\n",
      "European Bank for Reconstruction and Development (EBRD)\n",
      "International Finance Corporation (IFC)\n",
      "Asian Development Bank (ADB)\n",
      "Asian Infrastructure Investment Bank (AIIB)\n",
      "New Development Bank (NDB)\n",
      "African Development Bank (AFDB)\n",
      "European Investment Bank (EIB)\n",
      "Inter-American Development Bank (IADB)\n",
      "Netherlands Development Finance Company (FMO)\n",
      "World Bank (WB)\n",
      "Inter-American Investment Corporation (IIC)\n",
      "Multilateral Investment Guarantee Agency (MIGA)\n"
     ]
    }
   ],
   "source": [
    "for b in banks_counter: print(b)"
   ]
  },
  {
   "cell_type": "markdown",
   "metadata": {},
   "source": [
    "------------"
   ]
  }
 ],
 "metadata": {
  "kernelspec": {
   "display_name": "Python 3",
   "language": "python",
   "name": "python3"
  },
  "language_info": {
   "codemirror_mode": {
    "name": "ipython",
    "version": 3
   },
   "file_extension": ".py",
   "mimetype": "text/x-python",
   "name": "python",
   "nbconvert_exporter": "python",
   "pygments_lexer": "ipython3",
   "version": "3.6.5"
  }
 },
 "nbformat": 4,
 "nbformat_minor": 2
}
